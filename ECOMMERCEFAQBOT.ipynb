{
  "nbformat": 4,
  "nbformat_minor": 0,
  "metadata": {
    "colab": {
      "provenance": [],
      "authorship_tag": "ABX9TyPHP2zM0w57/lfJZkwHhQfl",
      "include_colab_link": true
    },
    "kernelspec": {
      "name": "python3",
      "display_name": "Python 3"
    },
    "language_info": {
      "name": "python"
    }
  },
  "cells": [
    {
      "cell_type": "markdown",
      "metadata": {
        "id": "view-in-github",
        "colab_type": "text"
      },
      "source": [
        "<a href=\"https://colab.research.google.com/github/tanishkraghav/error-404/blob/main/ECOMMERCEFAQBOT.ipynb\" target=\"_parent\"><img src=\"https://colab.research.google.com/assets/colab-badge.svg\" alt=\"Open In Colab\"/></a>"
      ]
    },
    {
      "cell_type": "code",
      "execution_count": 3,
      "metadata": {
        "colab": {
          "base_uri": "https://localhost:8080/"
        },
        "id": "4psxZhYuPYjj",
        "outputId": "7cde1b24-b9a7-46f1-d560-df5651c09956"
      },
      "outputs": [
        {
          "output_type": "stream",
          "name": "stderr",
          "text": [
            "[nltk_data] Downloading package punkt to /root/nltk_data...\n",
            "[nltk_data]   Package punkt is already up-to-date!\n"
          ]
        }
      ],
      "source": [
        "import nltk\n",
        "nltk.download('punkt')\n",
        "\n",
        "from sklearn.feature_extraction.text import TfidfVectorizer\n",
        "from sklearn.metrics.pairwise import cosine_similarity\n",
        "\n",
        "\n",
        "import numpy"
      ]
    },
    {
      "cell_type": "code",
      "source": [
        "faq_data = {\n",
        "    \"What are your business hours?\": \"Our business hours are Monday to Friday, 9 AM to 6 PM.\",\n",
        "    \"How can I contact customer support?\": \"You can contact our customer support team by emailing support@example.com or calling 1-800-123-4567.\",\n",
        "    \"Where is your office located?\": \"Our office is located at 123 Main Street, Cityville, Country.\",\n",
        "    \"Do you offer international shipping?\": \"Yes, we offer international shipping to select countries. Please check our shipping policy for more details.\",\n",
        "    \"How can I track my order?\": \"You can track your order by logging into your account and visiting the 'Orders' section, or by using the tracking number provided in the confirmation email.\",\n",
        "    \"Can I return an item?\": \"Yes, we offer a 30-day return policy for most items. Please refer to our returns page for detailed instructions.\",\n",
        "    \"What payment methods do you accept?\": \"We accept credit/debit cards (Visa, MasterCard, Amex), PayPal, and Apple Pay.\",\n",
        "    \"How do I reset my password?\": \"To reset your password, click on 'Forgot Password' on the login page and follow the instructions sent to your email.\",\n",
        "    \"Do you offer gift cards?\": \"Yes, we offer gift cards in various denominations. You can purchase them on our website.\",\n",
        "    \"Is my payment information secure?\": \"Yes, we use SSL encryption to ensure that your payment information is securely transmitted.\"\n",
        "}\n",
        "\n",
        "questions=list(faq_data.keys())\n",
        "answers=list(faq_data.values())"
      ],
      "metadata": {
        "id": "B902e3nRR8VM"
      },
      "execution_count": 4,
      "outputs": []
    },
    {
      "cell_type": "code",
      "source": [
        "vectorizer=TfidfVectorizer()\n",
        "\n",
        "matrix=vectorizer.fit_transform(questions)\n",
        "\n",
        "def get_answer(user_query):\n",
        "  query=vectorizer.transform([user_query])\n",
        "\n",
        "  similarity=cosine_similarity(query,matrix)\n",
        "\n",
        "  match_index=similarity.argmax()\n",
        "  match_score=similarity[0,match_index]\n",
        "\n",
        "  threshold=0.1\n",
        "\n",
        "  if match_score>threshold:\n",
        "    return answers[match_index]\n",
        "  else:\n",
        "    return \"I'm sorry, I don't have an answer for that question.\""
      ],
      "metadata": {
        "id": "6uPfQU48SnMm"
      },
      "execution_count": 6,
      "outputs": []
    },
    {
      "cell_type": "code",
      "source": [
        "while True:\n",
        "  user_query=input()\n",
        "  if user_query.lower()=='exit':\n",
        "    print(\"Thank you for using our chatbot. Have a great day!\")\n",
        "    break\n",
        "\n",
        "  response=get_answer(user_query)\n",
        "  print(response)\n",
        ""
      ],
      "metadata": {
        "colab": {
          "base_uri": "https://localhost:8080/"
        },
        "id": "zmXDHPCpbKTI",
        "outputId": "ccd1038b-6bdc-4792-9509-3a77e19b8231"
      },
      "execution_count": 7,
      "outputs": [
        {
          "output_type": "stream",
          "name": "stdout",
          "text": [
            "What are your business hours?\n",
            "Our business hours are Monday to Friday, 9 AM to 6 PM.\n",
            "Do you offer gift cards?\n",
            "Yes, we offer gift cards in various denominations. You can purchase them on our website.\n",
            "good morning\n",
            "I'm sorry, I don't have an answer for that question.\n",
            "payment methods\n",
            "We accept credit/debit cards (Visa, MasterCard, Amex), PayPal, and Apple Pay.\n",
            "bye\n",
            "I'm sorry, I don't have an answer for that question.\n",
            "exit\n",
            "Thank you for using our chatbot. Have a great day!\n"
          ]
        }
      ]
    }
  ]
}